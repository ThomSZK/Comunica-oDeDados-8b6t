{
 "metadata": {
  "language_info": {
   "codemirror_mode": {
    "name": "ipython",
    "version": 3
   },
   "file_extension": ".py",
   "mimetype": "text/x-python",
   "name": "python",
   "nbconvert_exporter": "python",
   "pygments_lexer": "ipython3",
   "version": "3.9.4"
  },
  "orig_nbformat": 2,
  "kernelspec": {
   "name": "python394jvsc74a57bd0d1ded9c49ba9bfcce81faeba135de692c1164043ebad3db065ddbeb309d74f1d",
   "display_name": "Python 3.9.4 64-bit"
  },
  "metadata": {
   "interpreter": {
    "hash": "d1ded9c49ba9bfcce81faeba135de692c1164043ebad3db065ddbeb309d74f1d"
   }
  }
 },
 "nbformat": 4,
 "nbformat_minor": 2,
 "cells": [
  {
   "cell_type": "code",
   "execution_count": 1,
   "metadata": {},
   "outputs": [],
   "source": [
    "import socket\n",
    "import string \n",
    "import random\n",
    "import pandas as pd\n",
    "import PySimpleGUI as sg\n",
    "import matplotlib.pyplot as plt\n",
    "import numpy as np"
   ]
  },
  {
   "cell_type": "code",
   "execution_count": 2,
   "metadata": {},
   "outputs": [],
   "source": [
    "HOST = '127.0.0.1'\n",
    "PORT = 55555"
   ]
  },
  {
   "cell_type": "code",
   "execution_count": 3,
   "metadata": {},
   "outputs": [],
   "source": [
    "s = socket.socket(socket.AF_INET, socket.SOCK_STREAM)  #stream eh TCP\n",
    "s.connect((HOST, PORT))"
   ]
  },
  {
   "cell_type": "code",
   "execution_count": 4,
   "metadata": {},
   "outputs": [],
   "source": [
    "#Faz a criptografia\n",
    "def encryption(data):\n",
    "    coded = ''\n",
    "    hash = len(data)-1\n",
    "    i = hash\n",
    "    while i>= 0:\n",
    "        coded = coded + random.choice(string.ascii_letters)\n",
    "        coded = coded + data[i]\n",
    "        coded = coded + random.choice(string.ascii_letters+string.digits)    \n",
    "        i -= 1\n",
    "    return coded"
   ]
  },
  {
   "cell_type": "code",
   "execution_count": 5,
   "metadata": {},
   "outputs": [],
   "source": [
    "#Faz a decriptografia\n",
    "def decryption(data):\n",
    "    decoded = ''\n",
    "    hash = len(data)-1\n",
    "    i = hash \n",
    "    i -= 1\n",
    "    while i >= 0:\n",
    "        decoded = decoded + data[i]\n",
    "        i -= 3\n",
    "    return decoded"
   ]
  },
  {
   "cell_type": "code",
   "execution_count": 6,
   "metadata": {},
   "outputs": [],
   "source": [
    "# codifica a string criptografada de ASCII para 8B6T\n",
    "def encode(data):\n",
    "    encoded = ''\n",
    "    table = pd.read_csv('8b6tTABLE.csv')\n",
    "    table.fillna(' ', inplace = True)\n",
    "    for i in range(len(data)):\n",
    "        for j in range(len(table)):\n",
    "            if(table['Char'].iloc[j] == data[i]):    \n",
    "                encoded = encoded + flip(table['6T'].iloc[j])\n",
    "    \n",
    "    return encoded"
   ]
  },
  {
   "cell_type": "code",
   "execution_count": 7,
   "metadata": {},
   "outputs": [],
   "source": [
    "# decodifica de 8b6T para ASCII\n",
    "def decode(data):\n",
    "    decoded = ''\n",
    "    table = pd.read_csv('8b6tTABLE.csv')\n",
    "    table.fillna(' ', inplace = True)\n",
    "    i = 0\n",
    "    k = 6\n",
    "    for k in range(len(data)):\n",
    "        for j in range(len(table)):\n",
    "            if(table['6T'].iloc[j] == flip(data[0:6])):\n",
    "                decoded = decoded + table['Char'].iloc[j]\n",
    "                data = data[6:]\n",
    "    return decoded"
   ]
  },
  {
   "cell_type": "code",
   "execution_count": 8,
   "metadata": {},
   "outputs": [],
   "source": [
    "# muda os valores do sinal se tiver dois positivos seguidos\n",
    "def flip(data):\n",
    "    flipped = ''\n",
    "    counter = 0\n",
    "    for i in range(len(data)):\n",
    "        if data[i] == '+':\n",
    "            flipped = flipped + '-'\n",
    "            counter += 1\n",
    "        elif data[i] == '-':\n",
    "            flipped = flipped + '+'\n",
    "            counter -= 1\n",
    "        else:\n",
    "            flipped = flipped + '0'\n",
    "    if counter >= 1:\n",
    "        return flipped\n",
    "    if counter <= -1:\n",
    "        return flipped\n",
    "    else: return data"
   ]
  },
  {
   "cell_type": "code",
   "execution_count": 9,
   "metadata": {},
   "outputs": [],
   "source": [
    "def homeOne():\n",
    "    sg.theme = 'Black'\n",
    "    #layout\n",
    "    layout=[\n",
    "        [sg.Text('Mensagem:'), sg.Input()],\n",
    "        [sg.Button('Enviar')],\n",
    "        #[sg.Output()]\n",
    "    ]\n",
    "\n",
    "    #Janela\n",
    "    janela=sg.Window(\"Escreva uma mensagem\",layout).Finalize()\n",
    "    \n",
    "    \n",
    "    #ColetaDados\n",
    "    event, values= janela.Read()\n",
    "    \n",
    "    \n",
    "    janela.close()\n",
    "    return values[0]\n",
    "             "
   ]
  },
  {
   "cell_type": "code",
   "execution_count": 10,
   "metadata": {},
   "outputs": [],
   "source": [
    "def paraBinario(data):\n",
    "    #myString = ''\n",
    "    #ba = bytearray(data)\n",
    "    #ba[0]\n",
    "    return (''.join('{:08b}'.format(ord(c)) for c in data))\n",
    "    #return (bin(ba[0]))\n"
   ]
  },
  {
   "cell_type": "code",
   "execution_count": 11,
   "metadata": {},
   "outputs": [],
   "source": [
    "def grafico(data):\n",
    "    #print(f'teste data',data)\n",
    "    #dados = ''\n",
    "    #print(f'teste dados',dados)\n",
    "    #barWidth=0.25\n",
    "\n",
    "    plt.figure()#figsize=(10,5))\n",
    "\n",
    "    r1= np.arange(len(data))\n",
    "\n",
    "    plt.bar(r1, data , color='#6A5ACD')#, width=barWidth)\n",
    "\n",
    "    plt.show()"
   ]
  },
  {
   "cell_type": "code",
   "execution_count": 12,
   "metadata": {},
   "outputs": [],
   "source": [
    "def homeTwo(data, aux3, aux2):\n",
    "    sg.theme = 'Black'\n",
    "    #layout\n",
    "    layout=[\n",
    "        [sg.Output(size=(50,30))],\n",
    "        [sg.Button('Sair')]\n",
    "    ]\n",
    "    \n",
    "    #Janela\n",
    "    janela=sg.Window(\"Mensagens\",layout).Finalize()\n",
    "    print(f'Mensagem:', aux3)\n",
    "    print(f'Mensagem binario:', paraBinario(aux3))\n",
    "    #aux4 = encryption(aux3)\n",
    "    aux3 = encryption(aux3)\n",
    "    print(f'Mensagem criptografada: ', aux3)\n",
    "    aux3 = encode(aux3)\n",
    "    print(f'Mensagem 8b6t:', aux2)\n",
    "    #print(f'Mensagem 8b6t:', encode(aux4))\n",
    "    \n",
    "    #grafico(data)\n",
    "    \n",
    "    while True:\n",
    "        button, values =janela.Read()\n",
    "        if button == 'Sair':\n",
    "            grafico(data)\n",
    "        else:\n",
    "            janela.close()\n",
    "    janela.close()"
   ]
  },
  {
   "cell_type": "code",
   "execution_count": 13,
   "metadata": {},
   "outputs": [
    {
     "output_type": "stream",
     "name": "stdout",
     "text": [
      "testando clipto:  po5hixQuvyyCQtfYrBSeIbw7Eqp\ntestando encode:  -0+0000-+0000--++000+--000-000++---0+-00-+-++--0++-0--++0---++0---+-0+--+-00-++-+--000+0--+-00+-+-+0--+00+--0+-0-++00--00++-0-0+00--++--0---0+0+-+0-00-++-0--0+000\n"
     ]
    },
    {
     
     ]
    }
   ],
   "source": [
    "#main\n",
    "mensagem = homeOne()\n",
    "aux1 = mensagem\n",
    "mensagem = encryption(mensagem)\n",
    "print(f'testando clipto: ', mensagem)\n",
    "mensagem = encode(mensagem)\n",
    "aux2=mensagem\n",
    "print(f'testando encode: ', mensagem)\n",
    "s.sendall(str.encode(mensagem))\n",
    "\n",
    "data = s.recv(1024) \n",
    "\n",
    "tela=homeTwo(data, aux1, aux2)\n",
    "\n",
    "#grafico(aux2)\n",
    "\n",
    "#print(f'Mensagem ecoada:', data.decode())"
   ]
  },
  {
   "cell_type": "code",
   "execution_count": null,
   "metadata": {},
   "outputs": [],
   "source": []
  }
 ]
}
